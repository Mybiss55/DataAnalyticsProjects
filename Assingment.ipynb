{
 "cells": [
  {
   "cell_type": "markdown",
   "id": "d24d8348-10be-41d8-a5bf-5bf861a1ed38",
   "metadata": {},
   "source": [
    "# Setup"
   ]
  },
  {
   "cell_type": "code",
   "execution_count": null,
   "id": "bf5c84c8-af19-4e22-bff3-6707c988b4e9",
   "metadata": {},
   "outputs": [],
   "source": [
    "import pandas as pd\n",
    "import geopandas as gpd\n",
    "import geodatasets\n",
    "import matplotlib.pyplot as plt\n",
    "import numpy as np\n",
    "\n",
    "# Load the Excel file and specific sheet\n",
    "excel_file = 'CAT_26042024_SectorAssessmentData_DataExplorer.xlsx'\n",
    "sheet_name = 'Data'\n",
    "df = pd.read_excel(excel_file, sheet_name=sheet_name, engine='openpyxl')\n",
    "\n",
    "# Add my own column names\n",
    "df.columns = ['Type', 'Description', 'ISO_A3', 'Year', 'Timeline', 'Value', 'Unit']\n",
    "# Save the DataFrame to a CSV file\n",
    "df.to_csv('output3.csv', index=False)"
   ]
  },
  {
   "cell_type": "markdown",
   "id": "65534994-4070-4ffe-94aa-3f3ec4dc5837",
   "metadata": {},
   "source": [
    "## Data Exploration"
   ]
  },
  {
   "cell_type": "code",
   "execution_count": null,
   "id": "c6fce74c-92f4-4f12-ac7a-285ea73d972c",
   "metadata": {},
   "outputs": [],
   "source": [
    "df.head()"
   ]
  },
  {
   "cell_type": "code",
   "execution_count": null,
   "id": "e44cef7d-01aa-449c-a7f6-f4820e3671c4",
   "metadata": {},
   "outputs": [],
   "source": [
    "df['ISO_A3'].unique()"
   ]
  },
  {
   "cell_type": "code",
   "execution_count": null,
   "id": "3e90a3df-90a3-490a-a871-9ce0e689bc71",
   "metadata": {},
   "outputs": [],
   "source": [
    "df.info()"
   ]
  },
  {
   "cell_type": "markdown",
   "id": "08a77f3b-cb7d-4330-ae0e-59decd7feeba",
   "metadata": {},
   "source": [
    "### Identify What Types there are"
   ]
  },
  {
   "cell_type": "code",
   "execution_count": null,
   "id": "adb060e7-02dc-4016-8f8b-9b84b2a5aeb5",
   "metadata": {},
   "outputs": [],
   "source": [
    "df['Type'].unique()"
   ]
  },
  {
   "cell_type": "markdown",
   "id": "ac22b37e-37cc-4b3d-afeb-ef6ba2f1ba9a",
   "metadata": {},
   "source": [
    "### Identify timelines"
   ]
  },
  {
   "cell_type": "code",
   "execution_count": null,
   "id": "3c549dc0-efc6-4f94-b3ca-b3bacd31ce64",
   "metadata": {},
   "outputs": [],
   "source": [
    "df['Timeline'].unique()"
   ]
  },
  {
   "cell_type": "markdown",
   "id": "35a1d7bb-efd5-4af3-8477-9fcb6b66caf6",
   "metadata": {},
   "source": [
    "## Get Valid iso_a3 values\n",
    "### Remove regional or group level entities, like EU and World"
   ]
  },
  {
   "cell_type": "code",
   "execution_count": null,
   "id": "99c129e5-f4e7-4c49-a272-4c4033d8d7cc",
   "metadata": {},
   "outputs": [],
   "source": [
    "import pycountry\n",
    "\n",
    "country_column = df['ISO_A3']\n",
    "\n",
    "# Get a list of valid ISO Alpha-3 country codes\n",
    "valid_iso_a3 = {country.alpha_3 for country in pycountry.countries}\n",
    "print(valid_iso_a3)"
   ]
  },
  {
   "cell_type": "code",
   "execution_count": null,
   "id": "995ea8c0-ea4e-49e9-9615-72d70d8368ca",
   "metadata": {},
   "outputs": [],
   "source": [
    "# Filter rows with valid ISO codes\n",
    "valid_countries = country_column[country_column.isin(valid_iso_a3)]\n",
    "\n",
    "# Preview valid countries\n",
    "valid_countries.unique()"
   ]
  },
  {
   "cell_type": "code",
   "execution_count": null,
   "id": "0f637449-6dca-4bee-8aee-7706f413a8dd",
   "metadata": {},
   "outputs": [],
   "source": [
    "# Compare valid countries to what I removed\n",
    "country_column.unique()"
   ]
  },
  {
   "cell_type": "code",
   "execution_count": null,
   "id": "304900d2-b531-4f1f-bb4d-4f112a8026da",
   "metadata": {},
   "outputs": [],
   "source": [
    "filtered_df_country = df[df['ISO_A3'].isin(valid_iso_a3)]"
   ]
  },
  {
   "cell_type": "code",
   "execution_count": null,
   "id": "3baa28f5-11bc-46f7-b78d-214cdf43b315",
   "metadata": {},
   "outputs": [],
   "source": [
    "filtered_df_country['ISO_A3'].unique()"
   ]
  },
  {
   "cell_type": "markdown",
   "id": "3b906248-decb-40fd-9a65-b4a927bb3a67",
   "metadata": {},
   "source": [
    "### Get World Data"
   ]
  },
  {
   "cell_type": "code",
   "execution_count": null,
   "id": "6900929e-5bde-4b71-a5be-bbd6940eecec",
   "metadata": {},
   "outputs": [],
   "source": [
    "world = gpd.read_file(\"ne_110m_admin_0_countries.shp\")"
   ]
  },
  {
   "cell_type": "markdown",
   "id": "1d103a7d-6bae-4876-8b45-8433b36148cd",
   "metadata": {},
   "source": [
    "### Plot World Map"
   ]
  },
  {
   "cell_type": "code",
   "execution_count": null,
   "id": "da4b69d6-7031-44ca-8690-25dddcaaed5f",
   "metadata": {
    "scrolled": true
   },
   "outputs": [],
   "source": [
    "world.plot(figsize=(15, 10), edgecolor='black')\n",
    "plt.title(\"Basic World Map\", fontsize=20)\n",
    "plt.show()"
   ]
  },
  {
   "cell_type": "markdown",
   "id": "0d156ef2-b8eb-4963-b92e-bf54cc8b7afc",
   "metadata": {},
   "source": [
    "## Filter Data"
   ]
  },
  {
   "cell_type": "code",
   "execution_count": null,
   "id": "20602ad1-6b49-471b-b180-3d06db542065",
   "metadata": {},
   "outputs": [],
   "source": [
    "filtered_df_country = df[(df['Type'] == 'Electricity') & (df['Timeline'] == 'historic')]\n",
    "filtered_df_country.to_csv('elect.csv', index=False)\n",
    "filtered_data_country_desc = filtered_df_country[filtered_df_country['Description'].str.contains('Emissions intensity of electricity generation', case=False, na=False)]"
   ]
  },
  {
   "cell_type": "markdown",
   "id": "82682e51-b947-472f-8b77-827cb675a1bb",
   "metadata": {},
   "source": [
    "### Electricity is the only remaining Type"
   ]
  },
  {
   "cell_type": "code",
   "execution_count": null,
   "id": "afbd3c2a-374f-48f4-8901-4cdcfbc2e4f2",
   "metadata": {},
   "outputs": [],
   "source": [
    "filtered_data_country_desc['Type'].unique()"
   ]
  },
  {
   "cell_type": "code",
   "execution_count": null,
   "id": "1c9e19f9-1994-4723-9664-289fe8c253c8",
   "metadata": {},
   "outputs": [],
   "source": [
    "# Check columns in the world DataFrame\n",
    "print(world.columns)\n",
    "\n",
    "# Check columns in the filtered_df_country DataFrame\n",
    "print(filtered_data_country_desc.columns)\n",
    "print(filtered_data_country_desc.head)"
   ]
  },
  {
   "cell_type": "markdown",
   "id": "84d39df6-e16c-41b6-bf84-25c291b99d64",
   "metadata": {},
   "source": [
    "## France == -99"
   ]
  },
  {
   "cell_type": "markdown",
   "id": "b1e9b341-d73e-403e-8de7-08aa0723328d",
   "metadata": {},
   "source": [
    "### Our Dataset is correct"
   ]
  },
  {
   "cell_type": "code",
   "execution_count": null,
   "id": "af737f9f-0acf-4ed0-9365-e1fdd76320c0",
   "metadata": {},
   "outputs": [],
   "source": [
    "csv_data = pd.read_csv('output3.csv')\n",
    "csv_data[\"ISO_A3\"].unique()"
   ]
  },
  {
   "cell_type": "code",
   "execution_count": null,
   "id": "635e1451-c80d-44bc-87b5-161662d2f94d",
   "metadata": {},
   "outputs": [],
   "source": [
    "# FRA values are not showing up in map\n",
    "print(df[df[\"ISO_A3\"].str.contains('FRA', na=False, case=False)])"
   ]
  },
  {
   "cell_type": "code",
   "execution_count": null,
   "id": "59c3c390-57bc-45bc-856f-bba6dd43b4d1",
   "metadata": {},
   "outputs": [],
   "source": [
    "filtered_data_country_desc['ISO_A3'].unique()"
   ]
  },
  {
   "cell_type": "markdown",
   "id": "144ff782-bbfc-4548-b557-7bd6ef3db098",
   "metadata": {},
   "source": [
    "### Natural World Dataset is not correct"
   ]
  },
  {
   "cell_type": "code",
   "execution_count": null,
   "id": "58ba3b45-024c-4d71-971c-1b87856cda04",
   "metadata": {},
   "outputs": [],
   "source": [
    "world['ISO_A3'].unique()"
   ]
  },
  {
   "cell_type": "code",
   "execution_count": null,
   "id": "7dff2b78-c835-4766-927f-dc7b3f17b0ac",
   "metadata": {},
   "outputs": [],
   "source": [
    "world[\"ISO_A3\"] = world[\"ISO_A3\"].replace(\"-99\", \"FRA\")"
   ]
  },
  {
   "cell_type": "markdown",
   "id": "b6240c3c-feb2-4006-a765-9d60d8c863f9",
   "metadata": {},
   "source": [
    "## Merge world dataset and emissions dataset"
   ]
  },
  {
   "cell_type": "code",
   "execution_count": null,
   "id": "a4ba038a-dda7-49e8-9b6a-3edebfdc210a",
   "metadata": {},
   "outputs": [],
   "source": [
    "mergedIntensity = world.merge(filtered_data_country_desc, how='left', on='ISO_A3')\n",
    "mergedIntensity['ISO_A3'] = np.where(mergedIntensity['Value'].isna(), np.nan, mergedIntensity['ISO_A3'])\n",
    "mergedIntensity['ISO_A3'].unique()"
   ]
  },
  {
   "cell_type": "markdown",
   "id": "d8790b17-43a4-4caa-a48c-add21a0f8c65",
   "metadata": {},
   "source": [
    "## Plot Intensity Map"
   ]
  },
  {
   "cell_type": "code",
   "execution_count": null,
   "id": "0413473f-98a7-4139-aa67-835b468f348a",
   "metadata": {},
   "outputs": [],
   "source": [
    "mergedIntensity.plot(\n",
    "    column='Value',\n",
    "    cmap='Reds',   # Adjust colormap as needed\n",
    "    legend=True,\n",
    "    figsize=(15, 10),\n",
    "    missing_kwds={\n",
    "        \"color\": \"darkgray\",  # Color for missing data\n",
    "        \"label\": \"No Data\"    # Label for missing data in legend\n",
    "    }\n",
    ")\n",
    "\n",
    "plt.title(\"Electricity Intensity Emissions Map (No Data Gray, g CO2 / KWH)\")\n",
    "plt.show()"
   ]
  },
  {
   "cell_type": "markdown",
   "id": "2886624d-78b9-48d7-bf6e-c490f6b834c2",
   "metadata": {},
   "source": [
    "# Share of Coal Percentage in Electricity Generation in World"
   ]
  },
  {
   "cell_type": "code",
   "execution_count": null,
   "id": "932d8bf5-eca3-4035-9f8f-5df047e2a65d",
   "metadata": {},
   "outputs": [],
   "source": [
    "filtered_data1 = df[\n",
    "    (df[\"ISO_A3\"] == \"World\") &\n",
    "    (df[\"Description\"] == \"Share of coal in electricity generation\")\n",
    "]\n",
    "filtered_data1 = filtered_data1[(filtered_data1['Timeline'] == 'historic')]"
   ]
  },
  {
   "cell_type": "code",
   "execution_count": null,
   "id": "b8f92928-1eee-4b63-b35e-e033e01ebe0c",
   "metadata": {},
   "outputs": [],
   "source": [
    "filtered_data1 = filtered_data1.sort_values(by=\"Year\")"
   ]
  },
  {
   "cell_type": "code",
   "execution_count": null,
   "id": "59b0a2b5-ce88-41db-9e85-db1a67cdfc80",
   "metadata": {},
   "outputs": [],
   "source": [
    "# Plot the data\n",
    "plt.figure(figsize=(10, 6))\n",
    "plt.plot(filtered_data1[\"Year\"], filtered_data1[\"Value\"], marker=\"o\", label=\"Share of Coal\")\n",
    "\n",
    "# Add labels and title\n",
    "plt.title(\"Share of Coal in Electricity Generation (World)\", fontsize=16)\n",
    "plt.xlabel(\"Year\", fontsize=14)\n",
    "plt.ylabel(\"Share (%)\", fontsize=14)\n",
    "plt.grid(True)\n",
    "plt.legend()\n",
    "\n",
    "# Show the plot\n",
    "plt.show()"
   ]
  },
  {
   "cell_type": "code",
   "execution_count": null,
   "id": "e2e68634-ce50-46d5-8471-63b23d3d79ba",
   "metadata": {},
   "outputs": [],
   "source": []
  }
 ],
 "metadata": {
  "kernelspec": {
   "display_name": "Python 3 (ipykernel)",
   "language": "python",
   "name": "python3"
  },
  "language_info": {
   "codemirror_mode": {
    "name": "ipython",
    "version": 3
   },
   "file_extension": ".py",
   "mimetype": "text/x-python",
   "name": "python",
   "nbconvert_exporter": "python",
   "pygments_lexer": "ipython3",
   "version": "3.12.4"
  }
 },
 "nbformat": 4,
 "nbformat_minor": 5
}
